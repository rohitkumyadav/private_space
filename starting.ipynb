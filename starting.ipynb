{
 "cells": [
  {
   "cell_type": "code",
   "execution_count": 10,
   "metadata": {},
   "outputs": [
    {
     "name": "stdout",
     "output_type": "stream",
     "text": [
      "Adding new student in database\n",
      "karan 98\n",
      "Welcome karan\n",
      "98\n"
     ]
    }
   ],
   "source": [
    "class Student:\n",
    "    college = \"ABC college\"\n",
    "\n",
    "    def __init__(self,name,marks):\n",
    "        self.name  = name\n",
    "        self.marks =  marks\n",
    "        print(\"Adding new student in database\")\n",
    "\n",
    "    def welcome(self):\n",
    "        print(f\"Welcome {self.name}\")\n",
    "\n",
    "    def marks(self):\n",
    "        return self.marks\n",
    "\n",
    "s1 = Student(\"karan\",98)\n",
    "print(s1.name,s1.marks)\n",
    "s1.welcome()\n",
    "print(s1.marks)"
   ]
  }
 ],
 "metadata": {
  "kernelspec": {
   "display_name": "Python 3",
   "language": "python",
   "name": "python3"
  },
  "language_info": {
   "codemirror_mode": {
    "name": "ipython",
    "version": 3
   },
   "file_extension": ".py",
   "mimetype": "text/x-python",
   "name": "python",
   "nbconvert_exporter": "python",
   "pygments_lexer": "ipython3",
   "version": "3.12.3"
  }
 },
 "nbformat": 4,
 "nbformat_minor": 2
}
