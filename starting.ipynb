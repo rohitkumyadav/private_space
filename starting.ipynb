{
 "cells": [
  {
   "cell_type": "code",
   "execution_count": 10,
   "metadata": {},
   "outputs": [
    {
     "name": "stdout",
     "output_type": "stream",
     "text": [
      "Adding new student in database\n",
      "karan 98\n",
      "Welcome karan\n",
      "98\n"
     ]
    }
   ],
   "source": [
    "class Student:\n",
    "    college = \"ABC college\"\n",
    "\n",
    "    def __init__(self,name,marks):\n",
    "        self.name  = name\n",
    "        self.marks =  marks\n",
    "        print(\"Adding new student in database\")\n",
    "\n",
    "    def welcome(self):\n",
    "        print(f\"Welcome {self.name}\")\n",
    "\n",
    "    def marks(self):\n",
    "        return self.marks\n",
    "\n",
    "s1 = Student(\"karan\",98)\n",
    "print(s1.name,s1.marks)\n",
    "s1.welcome()\n",
    "print(s1.marks)"
   ]
  },
  {
   "cell_type": "code",
   "execution_count": 22,
   "metadata": {},
   "outputs": [
    {
     "name": "stdout",
     "output_type": "stream",
     "text": [
      "Raghav [90, 98, 72]\n",
      "Hi rani your average marks is 86.66666666666667\n",
      "Hello Student\n"
     ]
    }
   ],
   "source": [
    "class Student:\n",
    "    def __init__(self, name, marks):\n",
    "        self.name = name\n",
    "        self.marks = marks\n",
    "\n",
    "    @staticmethod\n",
    "    def hello():\n",
    "        print(\"Hello Student\")\n",
    "\n",
    "    def average(self):\n",
    "        sum  = 0\n",
    "        for total in self.marks:\n",
    "            sum +=total\n",
    "\n",
    "        print(f\"Hi {self.name} your average marks is {sum/3}\")\n",
    "\n",
    "\n",
    "s1 = Student(\"Raghav\",[90,98,72])\n",
    "print(s1.name,s1.marks)\n",
    "s1.name = \"rani\"\n",
    "s1.average()\n",
    "s1.hello()"
   ]
  },
  {
   "cell_type": "code",
   "execution_count": 38,
   "metadata": {},
   "outputs": [
    {
     "name": "stdout",
     "output_type": "stream",
     "text": [
      "Total:  20000\n",
      "Rupees 1000 is debit\n",
      "Total amount : 19000\n",
      "Rupees 200000000 is credit\n",
      "Total amount : 200019000\n"
     ]
    }
   ],
   "source": [
    "# next program\n",
    "class Account:\n",
    "    def __init__(self,balance, account_no):\n",
    "        self.balance = balance\n",
    "        self.account_no = account_no\n",
    "\n",
    "    def auth_debit(self,amount):\n",
    "        self.balance -= amount\n",
    "        print(f\"Rupees {amount} is debit\")\n",
    "        print(f\"Total amount : {self.total_Amount()}\")\n",
    "\n",
    "    def auth_credit(self, amount):\n",
    "        self.balance +=amount\n",
    "        print(f\"Rupees {amount} is credit\")\n",
    "        print(f\"Total amount : {self.total_Amount()}\")\n",
    "\n",
    "    def total_Amount(self):\n",
    "        return self.balance\n",
    "\n",
    "    def amount_left(self):\n",
    "        print(\"Total: \",self.balance)\n",
    "\n",
    "\n",
    "\n",
    "a1 = Account(20000,98787879)\n",
    "a1.amount_left()\n",
    "a1.auth_debit(1000)\n",
    "a1.auth_credit(200000000)"
   ]
  },
  {
   "cell_type": "code",
   "execution_count": 41,
   "metadata": {},
   "outputs": [
    {
     "name": "stdout",
     "output_type": "stream",
     "text": [
      "RAV4\n"
     ]
    }
   ],
   "source": [
    "# inheritance\n",
    "class Car:\n",
    "    @staticmethod\n",
    "    def start():\n",
    "        print(\"car started\")\n",
    "    \n",
    "    @staticmethod\n",
    "    def stop():\n",
    "        print(\"car stoped\")\n",
    "\n",
    "class ToyataCar(Car):\n",
    "    def __init__(self,name):\n",
    "        self.name = name\n",
    "\n",
    "\n",
    "car1 = ToyataCar(\"RAV4\")\n",
    "print(car1.name)"
   ]
  }
 ],
 "metadata": {
  "kernelspec": {
   "display_name": "Python 3",
   "language": "python",
   "name": "python3"
  },
  "language_info": {
   "codemirror_mode": {
    "name": "ipython",
    "version": 3
   },
   "file_extension": ".py",
   "mimetype": "text/x-python",
   "name": "python",
   "nbconvert_exporter": "python",
   "pygments_lexer": "ipython3",
   "version": "3.12.3"
  }
 },
 "nbformat": 4,
 "nbformat_minor": 2
}
