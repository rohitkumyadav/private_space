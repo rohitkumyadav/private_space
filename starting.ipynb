{
 "cells": [
  {
   "cell_type": "code",
   "execution_count": 7,
   "metadata": {},
   "outputs": [
    {
     "name": "stdout",
     "output_type": "stream",
     "text": [
      "Adding new student in database\n",
      "karan 98\n"
     ]
    },
    {
     "ename": "NameError",
     "evalue": "name 'self' is not defined",
     "output_type": "error",
     "traceback": [
      "\u001b[1;31m---------------------------------------------------------------------------\u001b[0m",
      "\u001b[1;31mNameError\u001b[0m                                 Traceback (most recent call last)",
      "Cell \u001b[1;32mIn[7], line 14\u001b[0m\n\u001b[0;32m     12\u001b[0m s1 \u001b[38;5;241m=\u001b[39m Student(\u001b[38;5;124m\"\u001b[39m\u001b[38;5;124mkaran\u001b[39m\u001b[38;5;124m\"\u001b[39m,\u001b[38;5;241m98\u001b[39m)\n\u001b[0;32m     13\u001b[0m \u001b[38;5;28mprint\u001b[39m(s1\u001b[38;5;241m.\u001b[39mname,s1\u001b[38;5;241m.\u001b[39mmarks)\n\u001b[1;32m---> 14\u001b[0m Student\u001b[38;5;241m.\u001b[39mwelcome(\u001b[38;5;28;43mself\u001b[39;49m)\n",
      "\u001b[1;31mNameError\u001b[0m: name 'self' is not defined"
     ]
    }
   ],
   "source": [
    "class Student:\n",
    "    college = \"ABC college\"\n",
    "\n",
    "    def __init__(self,name,marks):\n",
    "        self.name  = name\n",
    "        self.marks =  marks\n",
    "        print(\"Adding new student in database\")\n",
    "\n",
    "    def welcome(self):\n",
    "        print(f\"Welcome {self.name}\")\n",
    "\n",
    "s1 = Student(\"karan\",98)\n",
    "print(s1.name,s1.marks)\n",
    "Student.welcome()"
   ]
  }
 ],
 "metadata": {
  "kernelspec": {
   "display_name": "Python 3",
   "language": "python",
   "name": "python3"
  },
  "language_info": {
   "codemirror_mode": {
    "name": "ipython",
    "version": 3
   },
   "file_extension": ".py",
   "mimetype": "text/x-python",
   "name": "python",
   "nbconvert_exporter": "python",
   "pygments_lexer": "ipython3",
   "version": "3.12.3"
  }
 },
 "nbformat": 4,
 "nbformat_minor": 2
}
