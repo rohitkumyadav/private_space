{
 "cells": [
  {
   "cell_type": "code",
   "execution_count": 10,
   "metadata": {},
   "outputs": [
    {
     "name": "stdout",
     "output_type": "stream",
     "text": [
      "Adding new student in database\n",
      "karan 98\n",
      "Welcome karan\n",
      "98\n"
     ]
    }
   ],
   "source": [
    "class Student:\n",
    "    college = \"ABC college\"\n",
    "\n",
    "    def __init__(self,name,marks):\n",
    "        self.name  = name\n",
    "        self.marks =  marks\n",
    "        print(\"Adding new student in database\")\n",
    "\n",
    "    def welcome(self):\n",
    "        print(f\"Welcome {self.name}\")\n",
    "\n",
    "    def marks(self):\n",
    "        return self.marks\n",
    "\n",
    "s1 = Student(\"karan\",98)\n",
    "print(s1.name,s1.marks)\n",
    "s1.welcome()\n",
    "print(s1.marks)"
   ]
  },
  {
   "cell_type": "code",
   "execution_count": 11,
   "metadata": {},
   "outputs": [
    {
     "ename": "NameError",
     "evalue": "name 'si' is not defined",
     "output_type": "error",
     "traceback": [
      "\u001b[1;31m---------------------------------------------------------------------------\u001b[0m",
      "\u001b[1;31mNameError\u001b[0m                                 Traceback (most recent call last)",
      "Cell \u001b[1;32mIn[11], line 14\u001b[0m\n\u001b[0;32m     10\u001b[0m         \u001b[38;5;28mprint\u001b[39m(\u001b[38;5;124mf\u001b[39m\u001b[38;5;124m\"\u001b[39m\u001b[38;5;124mAverage of the marks is : \u001b[39m\u001b[38;5;132;01m{\u001b[39;00maverage_\u001b[38;5;132;01m}\u001b[39;00m\u001b[38;5;124m\"\u001b[39m)\n\u001b[0;32m     13\u001b[0m s1 \u001b[38;5;241m=\u001b[39m Student(\u001b[38;5;124m\"\u001b[39m\u001b[38;5;124mRaghav\u001b[39m\u001b[38;5;124m\"\u001b[39m,\u001b[38;5;241m90\u001b[39m,\u001b[38;5;241m98\u001b[39m,\u001b[38;5;241m72\u001b[39m)\n\u001b[1;32m---> 14\u001b[0m \u001b[38;5;28mprint\u001b[39m(s1\u001b[38;5;241m.\u001b[39mname,s1\u001b[38;5;241m.\u001b[39mmaths,s1\u001b[38;5;241m.\u001b[39msi,\u001b[43msi\u001b[49m\u001b[38;5;241m.\u001b[39mos)\n",
      "\u001b[1;31mNameError\u001b[0m: name 'si' is not defined"
     ]
    }
   ],
   "source": [
    "class Student:\n",
    "    def __init__(self, name, maths, si, os):\n",
    "        self.name = name\n",
    "        self.maths = maths\n",
    "        self.si = si\n",
    "        self.os = os\n",
    "    \n",
    "    def average(self):\n",
    "        average_ = (self.maths+self.si+self.os)/3\n",
    "        print(f\"Average of the marks is : {average_}\")\n",
    "\n",
    "\n",
    "s1 = Student(\"Raghav\",90,98,72)\n",
    "print(s1.name,s1.maths,s1.si,s1.os)"
   ]
  }
 ],
 "metadata": {
  "kernelspec": {
   "display_name": "Python 3",
   "language": "python",
   "name": "python3"
  },
  "language_info": {
   "codemirror_mode": {
    "name": "ipython",
    "version": 3
   },
   "file_extension": ".py",
   "mimetype": "text/x-python",
   "name": "python",
   "nbconvert_exporter": "python",
   "pygments_lexer": "ipython3",
   "version": "3.12.3"
  }
 },
 "nbformat": 4,
 "nbformat_minor": 2
}
